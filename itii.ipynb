{
 "cells": [
  {
   "cell_type": "markdown",
   "metadata": {
    "colab_type": "text",
    "id": "view-in-github"
   },
   "source": [
    "<a href=\"https://colab.research.google.com/github/BDafflon/itii-jupyter/blob/master/itii.ipynb\" target=\"_parent\"><img src=\"https://colab.research.google.com/assets/colab-badge.svg\" alt=\"Open In Colab\"/></a>"
   ]
  },
  {
   "cell_type": "markdown",
   "metadata": {
    "colab_type": "text",
    "id": "vYqbUr5Knqi8"
   },
   "source": [
    "#Python\n",
    "Dans cette introduction à Python pour la programmation scientifique, nous utiliserons Python comme langage et les bibliothèques NumPy et matplotlib pour le calcul scientifique et la visualisation.\n"
   ]
  },
  {
   "cell_type": "markdown",
   "metadata": {
    "colab_type": "text",
    "id": "lvO6L5D5phvE"
   },
   "source": [
    "\n",
    "#Découpage\n",
    "Séance 1\n",
    "* notion\n",
    "* l'environement jupyter\n",
    "* pip\n",
    "* importer/exporter un notebook\n",
    "\n",
    "Séance 2\n",
    "* Fonction\n",
    "* POO\n",
    "* Inputs/outup\n",
    "\n",
    "Séance 3\n",
    "* Numpy et Matplot\n",
    "* Array\n",
    "\n",
    "Séance 4\n",
    "* Math\n",
    "* Calcule de Zero\n",
    "* Calcule de dérivée\n",
    "\n",
    "Séance 5\n",
    "* Suites récurrentes\n",
    "* Suites définies par des sommes\n",
    "\n",
    "Séance 6 **Noté**\n",
    "* Méthode des rectangles\n",
    "* Méthode des trapèzes\n",
    "* Intégration par la méthode de Simpson\n",
    "\n",
    "Séance 7\n",
    "* calcul matricie\n",
    "* Typage des données\n",
    "* Parcours d’une matrice\n",
    "\n",
    "Séance 8 **Noté**\n",
    "* Fonction matricielles"
   ]
  },
  {
   "cell_type": "markdown",
   "metadata": {
    "colab_type": "text",
    "id": "tDtJNSCKp1tQ"
   },
   "source": [
    "#Séance 1 : Notion\n"
   ]
  },
  {
   "cell_type": "markdown",
   "metadata": {
    "colab_type": "text",
    "id": "K60-19ctqLjw"
   },
   "source": [
    "## JupyterLab\n",
    "Jupyter est une application web utilisée pour programmer dans plus de 40 langages de programmation, dont Python, Julia, Ruby, R, ou encore Scala2. Jupyter est une évolution du projet IPython. Jupyter permet de réaliser des calepins ou notebooks, c'est-à-dire des programmes contenant à la fois du texte en markdown et du code en Julia, Python, R... Ces Notebook sont utilisés en science des données pour explorer et analyser des données.\n",
    "\n",
    "Il existe plusieurs distribution de Jupyter :\n",
    "\n",
    "Online\n",
    "\n",
    "* Binder\n",
    "* Colaboratory\n",
    "* Azure Notebooks\n",
    "\n",
    "Windows\n",
    "\n",
    "* Jupyter Portable\n",
    "* Anaconda (Python distribution)\n",
    "\n",
    "Mac\n",
    "\n",
    "* Anaconda (Python distribution)\n",
    "\n",
    "Linux\n",
    "\n",
    "* Jupyter Lab\n",
    "* Anaconda (Python distribution)\n",
    "\n",
    "Le format de fichier produit est un **ipynb** compatible avec toutes ces plateformes. \n",
    "\n",
    "Vous trouverez plus d'information sur cet environement ici : https://programminghistorian.org/en/lessons/jupyter-notebooks"
   ]
  },
  {
   "cell_type": "markdown",
   "metadata": {
    "colab_type": "text",
    "id": "uVLdCsGUsEtQ"
   },
   "source": [
    "##PIP\n",
    "pip est un gestionnaire de paquets utilisé pour installer et gérer des paquets écrits en Python. De nombreux paquets peuvent être trouvés sur le dépôt Python Package Index (PyPI : https://pypi.org/)\n",
    "\n",
    "3 commandes sont indispensables\n",
    "* pip install nom-du-paquet\n",
    "* pip uninstall nom-du-paquet \n",
    "* pip install -r requirements.txt"
   ]
  },
  {
   "cell_type": "code",
   "execution_count": null,
   "metadata": {
    "colab": {},
    "colab_type": "code",
    "id": "K9HVQ80vs-6L"
   },
   "outputs": [],
   "source": [
    "#Exemple 1 : Installer Numpy et mathplotlob\n",
    "\n",
    "!pip install Numpy\n",
    "!pip install matplotlib"
   ]
  },
  {
   "cell_type": "markdown",
   "metadata": {
    "colab_type": "text",
    "id": "ze023qyBtXZy"
   },
   "source": [
    "Comme vous l'avez vu, chaque cellule python d'un notebook peut etre executée avec le raccourit clavier ctrl+entrer"
   ]
  },
  {
   "cell_type": "markdown",
   "metadata": {
    "colab_type": "text",
    "id": "tjx98y6atwgV"
   },
   "source": [
    "##Exercice 1 : importer un notebook.\n",
    "\n",
    "\n",
    "1.   Créer ou connectez vous a GitHub.com\n",
    "2.   Forker le projet https://github.com/BDafflon/itii-jupyter.git\n",
    "3.   Impoeter le notbook dans jupyter\n",
    "\n"
   ]
  },
  {
   "cell_type": "markdown",
   "metadata": {
    "colab_type": "text",
    "id": "hpJ5zhcAvVcM"
   },
   "source": [
    "##Notion (rapide) de python\n"
   ]
  },
  {
   "cell_type": "markdown",
   "metadata": {
    "colab_type": "text",
    "id": "QPPJezNZyTDl"
   },
   "source": [
    "### Variable\n",
    "\n",
    "Une variable est une zone de la mémoire de l'ordinateur dans laquelle une valeur est stockée. Aux yeux du programmeur, cette variable est définie par un nom, alors que pour l'ordinateur, il s'agit en fait d'une adresse, c'est-à-dire d'une zone particulière de la mémoire.\n",
    "\n",
    "En Python, la déclaration d'une variable et son initialisation (c'est-à-dire la première valeur que l'on va stocker dedans) se font en même temps. "
   ]
  },
  {
   "cell_type": "code",
   "execution_count": 18,
   "metadata": {
    "colab": {
     "base_uri": "https://localhost:8080/",
     "height": 35
    },
    "colab_type": "code",
    "id": "FnfCY2u4yVsS",
    "outputId": "4af892ce-a2d0-4b58-f818-11f85c085e07"
   },
   "outputs": [
    {
     "name": "stdout",
     "output_type": "stream",
     "text": [
      "3\n"
     ]
    }
   ],
   "source": [
    "x=3\n",
    "print(x)"
   ]
  },
  {
   "cell_type": "markdown",
   "metadata": {
    "colab_type": "text",
    "id": "UN0UE8ryysHU"
   },
   "source": [
    "Le nom des variables en Python peut être constitué de lettres minuscules (a à z), de lettres majuscules (A à Z), de nombres (0 à 9) ou du caractère souligné (_). Vous ne pouvez pas utiliser d'espace dans un nom de variable.\n",
    "\n",
    "Par ailleurs, un nom de variable ne doit pas débuter par un chiffre et il n'est pas recommandé de le faire débuter par le caractère _ (sauf cas très particuliers).\n",
    "\n",
    "De plus, il faut absolument éviter d'utiliser un mot « réservé » par Python comme nom de variable (par exemple : print, range, for, from, etc.).\n",
    "\n",
    "Enfin, Python est sensible à la casse, ce qui signifie que les variables TesT, test ou TEST sont différentes."
   ]
  },
  {
   "cell_type": "markdown",
   "metadata": {
    "colab_type": "text",
    "id": "eMLTVpiLwB0p"
   },
   "source": [
    "### Les operateurs"
   ]
  },
  {
   "cell_type": "code",
   "execution_count": 11,
   "metadata": {
    "colab": {
     "base_uri": "https://localhost:8080/",
     "height": 35
    },
    "colab_type": "code",
    "id": "kkb13C8ivllv",
    "outputId": "a3eec687-662a-4bdc-d5cc-561cfad6c16c"
   },
   "outputs": [
    {
     "data": {
      "text/plain": [
       "15"
      ]
     },
     "execution_count": 11,
     "metadata": {
      "tags": []
     },
     "output_type": "execute_result"
    }
   ],
   "source": [
    "3 * 5"
   ]
  },
  {
   "cell_type": "code",
   "execution_count": 12,
   "metadata": {
    "colab": {
     "base_uri": "https://localhost:8080/",
     "height": 35
    },
    "colab_type": "code",
    "id": "B5HuqPw6v3Wt",
    "outputId": "910ddac1-0b03-4722-f423-e11158cda84c"
   },
   "outputs": [
    {
     "data": {
      "text/plain": [
       "15"
      ]
     },
     "execution_count": 12,
     "metadata": {
      "tags": []
     },
     "output_type": "execute_result"
    }
   ],
   "source": [
    "#Il n'y a qu'une sortie standard par cellule\n",
    "2+4\n",
    "3*5"
   ]
  },
  {
   "cell_type": "markdown",
   "metadata": {
    "colab_type": "text",
    "id": "6kQHFBmFwK8d"
   },
   "source": [
    "on peut spécifier la sortie standard en utilisant la fonction *print()*"
   ]
  },
  {
   "cell_type": "code",
   "execution_count": 13,
   "metadata": {
    "colab": {
     "base_uri": "https://localhost:8080/",
     "height": 54
    },
    "colab_type": "code",
    "id": "viLsKAUCwSPD",
    "outputId": "e536abe5-e3c0-48b2-f684-4cdf740728c5"
   },
   "outputs": [
    {
     "name": "stdout",
     "output_type": "stream",
     "text": [
      "6\n",
      "15\n"
     ]
    }
   ],
   "source": [
    "print(2+4)\n",
    "print(3*5)"
   ]
  },
  {
   "cell_type": "markdown",
   "metadata": {
    "colab_type": "text",
    "id": "Uimbz2-1wfML"
   },
   "source": [
    "L’opérateur / ne donne pas les mêmes résultats suivant les versions de Python. En Python 2, il réalise par défaut une division euclidienne, aussi appelée division entière (c’est-à-dire une division dont le résultat est un entier). En Python 3, il réalise une division décimale standard comme sur une calculatrice. En Python 2.7, on peut obtenir le même comportement qu’en Python 3 grâce à l’instruction :\n",
    "\n",
    "> from __future__ import division.\n",
    "\n",
    "La division entiere est donnée par l'operateur::\n",
    "> //\n",
    "Exemple :\n"
   ]
  },
  {
   "cell_type": "code",
   "execution_count": 14,
   "metadata": {
    "colab": {
     "base_uri": "https://localhost:8080/",
     "height": 35
    },
    "colab_type": "code",
    "id": "vRIuW8sWwuFe",
    "outputId": "0b6f636d-f516-4866-c8e7-2dd4f1d4c1db"
   },
   "outputs": [
    {
     "data": {
      "text/plain": [
       "3"
      ]
     },
     "execution_count": 14,
     "metadata": {
      "tags": []
     },
     "output_type": "execute_result"
    }
   ],
   "source": [
    "15 // 4"
   ]
  },
  {
   "cell_type": "markdown",
   "metadata": {
    "colab_type": "text",
    "id": "IISTj152xOqs"
   },
   "source": [
    "###La fonction range()\n",
    "\n",
    "La fonction *range()* génère des suites arithmétiques :"
   ]
  },
  {
   "cell_type": "code",
   "execution_count": 16,
   "metadata": {
    "colab": {
     "base_uri": "https://localhost:8080/",
     "height": 35
    },
    "colab_type": "code",
    "id": "hRuXakUexken",
    "outputId": "8554f9ce-2d22-4b55-d61b-3ca67a6bce7f"
   },
   "outputs": [
    {
     "data": {
      "text/plain": [
       "[0, 1, 2, 3, 4, 5, 6, 7, 8, 9]"
      ]
     },
     "execution_count": 16,
     "metadata": {
      "tags": []
     },
     "output_type": "execute_result"
    }
   ],
   "source": [
    "list(range(10))"
   ]
  },
  {
   "cell_type": "markdown",
   "metadata": {
    "colab_type": "text",
    "id": "GYjRJpT3xu7E"
   },
   "source": [
    "Elle est utilisée dans les boucles et dans la creation de tableau et liste. Elle est comparable a la fonction *arange()* de numpy."
   ]
  },
  {
   "cell_type": "markdown",
   "metadata": {
    "colab_type": "text",
    "id": "8uR6cZDxzZRJ"
   },
   "source": [
    "### Les boucles\n",
    "\n",
    "La boucle for:\n",
    "> for **iterateur** in **liste**: \n",
    "\n",
    "La portée du *for* est faite par l'indentation :\n",
    "\n",
    "\n"
   ]
  },
  {
   "cell_type": "code",
   "execution_count": null,
   "metadata": {
    "colab": {},
    "colab_type": "code",
    "id": "apRWMe3D0GKZ"
   },
   "outputs": [],
   "source": [
    "for i in range(10):\n",
    "  print(i)\n"
   ]
  },
  {
   "cell_type": "markdown",
   "metadata": {
    "colab_type": "text",
    "id": "lrI_aWJw0gUY"
   },
   "source": [
    "Une autre alternative à l'instruction for couramment utilisée en informatique est la boucle while. Le principe est simple. Une série d'instructions est exécutée tant qu'une condition est vraie. Par exemple :\n",
    "\n",
    "> while condition :"
   ]
  },
  {
   "cell_type": "code",
   "execution_count": null,
   "metadata": {
    "colab": {},
    "colab_type": "code",
    "id": "KvtyZuCH0jrO"
   },
   "outputs": [],
   "source": [
    "i=0\n",
    "while i<10:\n",
    "  print(i)\n",
    "  i=i+1"
   ]
  },
  {
   "cell_type": "markdown",
   "metadata": {
    "colab_type": "text",
    "id": "e7vl6nkP0xKa"
   },
   "source": [
    "##Exerices\n",
    "Ouvrir un nouveau notebook et l'enregistrer sur GitHub.\n",
    "###Ex 1: Cone\n",
    "Écrire un programme qui, à partir de la saisie d'un rayon et d'une hauteur, calcule le volume d'un cône droit.\n",
    "\n",
    "###Ex 2: Somme des cubes\n",
    "1. Pour un entier **n** fixé, programmer le calcul de la somme S<sub>n</sub>=1<sup>3</sup>+2<sup>3</sup>+3<sup>3</sup>+···+n<sup>3</sup>\n",
    "2. Définir un programme qui pour une valeur **n** calcul la somme Σ<sub>n</sub>=1+2+3+···+n.\n",
    "\n",
    "###Ex 3 : manipulation des variables :\n",
    "1. Combien y-a-t-il d’occurrences du chiffre1 dans les nombres de1 à 999? Par exemple le chiffre1 apparaît unefois dans 51 mais deux fois dans 131\n",
    "2. Écrire une fonction qui calcule l’écriture décimale d’un entier, sans recourir au log\n",
    "\n",
    "\n",
    "###Ex 4 : Aproximation de Pi\n",
    "Il est possible de calculer les premières décimales deπpar la méthode de Monte-Carlo, c’est à direavec l’aide du hasard.\n",
    "Soit la figure suivante :\n",
    "Si le carré rouge faite 1 de coté et le disque bleu 1 de rayon, comment pouvez vous determiner une approxiamtion de π ?\n",
    "\n",
    "![image.png](data:image/png;base64,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)\n"
   ]
  },
  {
   "cell_type": "code",
   "execution_count": 6,
   "metadata": {},
   "outputs": [
    {
     "name": "stdout",
     "output_type": "stream",
     "text": [
      "301.44\n"
     ]
    }
   ],
   "source": [
    "def volumeConeDroit(rayon, hauteur):\n",
    "    volume= (rayon**2*hauteur*3.14)/3\n",
    "    print(volume)\n",
    "    \n",
    "volumeConeDroit(6, 8)\n",
    "    "
   ]
  },
  {
   "cell_type": "code",
   "execution_count": 9,
   "metadata": {},
   "outputs": [
    {
     "name": "stdout",
     "output_type": "stream",
     "text": [
      "2401\n"
     ]
    }
   ],
   "source": [
    "def suiteSomme(n):\n",
    "    somme= 0\n",
    "    for i in range(n):\n",
    "        somme= somme + n**3\n",
    "    \n",
    "    print(somme)\n",
    "        \n",
    "suiteSomme(7)    "
   ]
  },
  {
   "cell_type": "code",
   "execution_count": 11,
   "metadata": {},
   "outputs": [
    {
     "name": "stdout",
     "output_type": "stream",
     "text": [
      "6\n"
     ]
    }
   ],
   "source": [
    "def suiteSomme2(n):\n",
    "    somme= 0\n",
    "    i=0\n",
    "    while i<n:\n",
    "        i=i+1\n",
    "        somme=somme+i\n",
    "    \n",
    "    print(somme)\n",
    "        \n",
    "suiteSomme2(3)   "
   ]
  },
  {
   "cell_type": "code",
   "execution_count": null,
   "metadata": {},
   "outputs": [],
   "source": [
    "def compteurUn(n):\n",
    "    n= str(n)\n",
    "    i=0\n",
    "    compteur=0\n",
    "    while i<len[n]:\n",
    "        if n[i]=1 :\n",
    "        compteur=compteur+1\n",
    "        i=i+1\n",
    "        \n",
    "    print(compteur)\n",
    "    \n",
    "compteurUn(1)\n",
    "            \n",
    "    "
   ]
  },
  {
   "cell_type": "code",
   "execution_count": null,
   "metadata": {},
   "outputs": [],
   "source": [
    "import random\n",
    "from math import sqrt\n",
    "\n",
    "def MonteCarlo():\n",
    "    \n",
    "    print(\"Entrez un rayon\")\n",
    "    rayon0=input()\n",
    "    rayon=int(rayon0)\n",
    "    \n",
    "    print(\"Entrez un nombre de points\")\n",
    "    nb_points0=input()\n",
    "    nb_points=int(nb_points0)\n",
    "    \n",
    "    compteur=0\n",
    "    for i in range(nb_points):\n",
    "        x = random.randint(0,1)\n",
    "        y = random.randint(0,1)\n",
    "        p = sqrt(x**2+y**2)\n",
    "        \n",
    "        if p <= 1 :\n",
    "            compteur = compteur+1\n",
    "\n",
    "    pi = 4 * compteur / nb_points\n",
    "    \n",
    "    print(pi)\n",
    "\n",
    "MonteCarlo()\n"
   ]
  },
  {
   "cell_type": "code",
   "execution_count": 1,
   "metadata": {},
   "outputs": [
    {
     "name": "stdout",
     "output_type": "stream",
     "text": [
      "fin de la premiere seance\n"
     ]
    }
   ],
   "source": []
  }
 ],
 "metadata": {
  "colab": {
   "authorship_tag": "ABX9TyOagyV2fZ1Z06C85vQXiRci",
   "include_colab_link": true,
   "name": "itii.ipynb",
   "provenance": [],
   "toc_visible": true
  },
  "kernelspec": {
   "display_name": "Python 3",
   "language": "python",
   "name": "python3"
  },
  "language_info": {
   "codemirror_mode": {
    "name": "ipython",
    "version": 3
   },
   "file_extension": ".py",
   "mimetype": "text/x-python",
   "name": "python",
   "nbconvert_exporter": "python",
   "pygments_lexer": "ipython3",
   "version": "3.7.6"
  }
 },
 "nbformat": 4,
 "nbformat_minor": 1
}
